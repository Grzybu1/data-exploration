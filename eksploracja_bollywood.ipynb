{
  "nbformat": 4,
  "nbformat_minor": 0,
  "metadata": {
    "colab": {
      "name": "eksploracja_bollywood.ipynb",
      "provenance": [],
      "collapsed_sections": []
    },
    "kernelspec": {
      "name": "python3",
      "display_name": "Python 3"
    },
    "language_info": {
      "name": "python"
    }
  },
  "cells": [
    {
      "cell_type": "code",
      "execution_count": null,
      "metadata": {
        "colab": {
          "base_uri": "https://localhost:8080/"
        },
        "id": "PTDinM8WvSoy",
        "outputId": "aa351596-3cc4-4638-cccc-d0c3797ea95e"
      },
      "outputs": [
        {
          "output_type": "stream",
          "name": "stdout",
          "text": [
            "Requirement already satisfied: opendatasets in /usr/local/lib/python3.7/dist-packages (0.1.20)\n",
            "Requirement already satisfied: tqdm in /usr/local/lib/python3.7/dist-packages (from opendatasets) (4.62.3)\n",
            "Requirement already satisfied: kaggle in /usr/local/lib/python3.7/dist-packages (from opendatasets) (1.5.12)\n",
            "Requirement already satisfied: click in /usr/local/lib/python3.7/dist-packages (from opendatasets) (7.1.2)\n",
            "Requirement already satisfied: python-dateutil in /usr/local/lib/python3.7/dist-packages (from kaggle->opendatasets) (2.8.2)\n",
            "Requirement already satisfied: requests in /usr/local/lib/python3.7/dist-packages (from kaggle->opendatasets) (2.23.0)\n",
            "Requirement already satisfied: certifi in /usr/local/lib/python3.7/dist-packages (from kaggle->opendatasets) (2021.10.8)\n",
            "Requirement already satisfied: urllib3 in /usr/local/lib/python3.7/dist-packages (from kaggle->opendatasets) (1.24.3)\n",
            "Requirement already satisfied: python-slugify in /usr/local/lib/python3.7/dist-packages (from kaggle->opendatasets) (5.0.2)\n",
            "Requirement already satisfied: six>=1.10 in /usr/local/lib/python3.7/dist-packages (from kaggle->opendatasets) (1.15.0)\n",
            "Requirement already satisfied: text-unidecode>=1.3 in /usr/local/lib/python3.7/dist-packages (from python-slugify->kaggle->opendatasets) (1.3)\n",
            "Requirement already satisfied: idna<3,>=2.5 in /usr/local/lib/python3.7/dist-packages (from requests->kaggle->opendatasets) (2.10)\n",
            "Requirement already satisfied: chardet<4,>=3.0.2 in /usr/local/lib/python3.7/dist-packages (from requests->kaggle->opendatasets) (3.0.4)\n"
          ]
        }
      ],
      "source": [
        "!pip install opendatasets\n",
        "import opendatasets as od\n",
        "import pandas as pd"
      ]
    },
    {
      "cell_type": "code",
      "source": [
        "od.download(\"https://www.kaggle.com/saikrishnadupp/top3000-imdb-indian-movies\")\n",
        "#grzybu;bf29fd54c80b0f9e2690029e9768b935\n",
        "bollywood = pd.read_csv('/content/top3000-imdb-indian-movies/Top3000_imdb_indian_movies.csv')"
      ],
      "metadata": {
        "colab": {
          "base_uri": "https://localhost:8080/"
        },
        "id": "4IddmVJqye0u",
        "outputId": "88f12ce4-3603-405c-d022-b52dd4f38b46"
      },
      "execution_count": null,
      "outputs": [
        {
          "output_type": "stream",
          "name": "stdout",
          "text": [
            "Skipping, found downloaded files in \"./top3000-imdb-indian-movies\" (use force=True to force download)\n"
          ]
        }
      ]
    },
    {
      "cell_type": "code",
      "source": [
        "bollywood.columns"
      ],
      "metadata": {
        "id": "n9b4AK_1HD5k",
        "colab": {
          "base_uri": "https://localhost:8080/"
        },
        "outputId": "bb9ace0e-1fe6-4bb9-e7d1-cbf57b0dfcf6"
      },
      "execution_count": null,
      "outputs": [
        {
          "output_type": "execute_result",
          "data": {
            "text/plain": [
              "Index(['Title', 'Date_of_Release', 'Genre', 'Crew_dir', 'Cast_stars',\n",
              "       'Plot_summary', 'Age_of_content', 'Votes', 'ImDBRating'],\n",
              "      dtype='object')"
            ]
          },
          "metadata": {},
          "execution_count": 3
        }
      ]
    },
    {
      "cell_type": "code",
      "source": [
        "#DATA PREPROCESSING\n",
        "bollywood.dropna(subset=['Crew_dir'], inplace=True)"
      ],
      "metadata": {
        "id": "Fsez-d5rI9SH"
      },
      "execution_count": null,
      "outputs": []
    },
    {
      "cell_type": "code",
      "source": [
        "bollywood.groupby(['Title']).size().reset_index(name='counts').query('counts > 1')"
      ],
      "metadata": {
        "colab": {
          "base_uri": "https://localhost:8080/",
          "height": 414
        },
        "id": "5iVr7lh4KNn-",
        "outputId": "eb18d3ea-5c83-4c18-ac08-5d530621d31a"
      },
      "execution_count": null,
      "outputs": [
        {
          "output_type": "execute_result",
          "data": {
            "text/html": [
              "<div>\n",
              "<style scoped>\n",
              "    .dataframe tbody tr th:only-of-type {\n",
              "        vertical-align: middle;\n",
              "    }\n",
              "\n",
              "    .dataframe tbody tr th {\n",
              "        vertical-align: top;\n",
              "    }\n",
              "\n",
              "    .dataframe thead th {\n",
              "        text-align: right;\n",
              "    }\n",
              "</style>\n",
              "<table border=\"1\" class=\"dataframe\">\n",
              "  <thead>\n",
              "    <tr style=\"text-align: right;\">\n",
              "      <th></th>\n",
              "      <th>Title</th>\n",
              "      <th>counts</th>\n",
              "    </tr>\n",
              "  </thead>\n",
              "  <tbody>\n",
              "    <tr>\n",
              "      <th>57</th>\n",
              "      <td>Aa Gale Lag Jaa</td>\n",
              "      <td>2</td>\n",
              "    </tr>\n",
              "    <tr>\n",
              "      <th>61</th>\n",
              "      <td>Aadmi</td>\n",
              "      <td>2</td>\n",
              "    </tr>\n",
              "    <tr>\n",
              "      <th>64</th>\n",
              "      <td>Aag</td>\n",
              "      <td>2</td>\n",
              "    </tr>\n",
              "    <tr>\n",
              "      <th>69</th>\n",
              "      <td>Aaina</td>\n",
              "      <td>2</td>\n",
              "    </tr>\n",
              "    <tr>\n",
              "      <th>77</th>\n",
              "      <td>Aakrosh</td>\n",
              "      <td>2</td>\n",
              "    </tr>\n",
              "    <tr>\n",
              "      <th>...</th>\n",
              "      <td>...</td>\n",
              "      <td>...</td>\n",
              "    </tr>\n",
              "    <tr>\n",
              "      <th>2604</th>\n",
              "      <td>Tere Mere Sapne</td>\n",
              "      <td>2</td>\n",
              "    </tr>\n",
              "    <tr>\n",
              "      <th>2716</th>\n",
              "      <td>Tumsa Nahin Dekha</td>\n",
              "      <td>2</td>\n",
              "    </tr>\n",
              "    <tr>\n",
              "      <th>2720</th>\n",
              "      <td>Udaan</td>\n",
              "      <td>2</td>\n",
              "    </tr>\n",
              "    <tr>\n",
              "      <th>2876</th>\n",
              "      <td>Zameer</td>\n",
              "      <td>2</td>\n",
              "    </tr>\n",
              "    <tr>\n",
              "      <th>2877</th>\n",
              "      <td>Zanjeer</td>\n",
              "      <td>2</td>\n",
              "    </tr>\n",
              "  </tbody>\n",
              "</table>\n",
              "<p>94 rows × 2 columns</p>\n",
              "</div>"
            ],
            "text/plain": [
              "                  Title  counts\n",
              "57      Aa Gale Lag Jaa       2\n",
              "61                Aadmi       2\n",
              "64                  Aag       2\n",
              "69                Aaina       2\n",
              "77              Aakrosh       2\n",
              "...                 ...     ...\n",
              "2604    Tere Mere Sapne       2\n",
              "2716  Tumsa Nahin Dekha       2\n",
              "2720              Udaan       2\n",
              "2876             Zameer       2\n",
              "2877            Zanjeer       2\n",
              "\n",
              "[94 rows x 2 columns]"
            ]
          },
          "metadata": {},
          "execution_count": 13
        }
      ]
    },
    {
      "cell_type": "code",
      "source": [
        "bollywood.groupby(['Crew_dir']).mean().drop(columns=['Date_of_Release'])"
      ],
      "metadata": {
        "colab": {
          "base_uri": "https://localhost:8080/",
          "height": 445
        },
        "id": "2giW8KtAyI-i",
        "outputId": "a6a0514e-c198-444d-f486-9f8f87de6d2a"
      },
      "execution_count": null,
      "outputs": [
        {
          "output_type": "execute_result",
          "data": {
            "text/html": [
              "<div>\n",
              "<style scoped>\n",
              "    .dataframe tbody tr th:only-of-type {\n",
              "        vertical-align: middle;\n",
              "    }\n",
              "\n",
              "    .dataframe tbody tr th {\n",
              "        vertical-align: top;\n",
              "    }\n",
              "\n",
              "    .dataframe thead th {\n",
              "        text-align: right;\n",
              "    }\n",
              "</style>\n",
              "<table border=\"1\" class=\"dataframe\">\n",
              "  <thead>\n",
              "    <tr style=\"text-align: right;\">\n",
              "      <th></th>\n",
              "      <th>Age_of_content</th>\n",
              "      <th>Votes</th>\n",
              "      <th>ImDBRating</th>\n",
              "    </tr>\n",
              "    <tr>\n",
              "      <th>Crew_dir</th>\n",
              "      <th></th>\n",
              "      <th></th>\n",
              "      <th></th>\n",
              "    </tr>\n",
              "  </thead>\n",
              "  <tbody>\n",
              "    <tr>\n",
              "      <th>\"    Director:Anthony D'Souza\"</th>\n",
              "      <td>8.333333</td>\n",
              "      <td>7015.000000</td>\n",
              "      <td>4.833333</td>\n",
              "    </tr>\n",
              "    <tr>\n",
              "      <th>\"    Director:Eros D'Antona\", \"</th>\n",
              "      <td>6.000000</td>\n",
              "      <td>210.000000</td>\n",
              "      <td>6.100000</td>\n",
              "    </tr>\n",
              "    <tr>\n",
              "      <th>\"    Director:Jasmine D'Souza\"</th>\n",
              "      <td>5.000000</td>\n",
              "      <td>1215.000000</td>\n",
              "      <td>3.100000</td>\n",
              "    </tr>\n",
              "    <tr>\n",
              "      <th>\"    Director:Lawrence D'Souza\"</th>\n",
              "      <td>25.333333</td>\n",
              "      <td>1105.555556</td>\n",
              "      <td>4.644444</td>\n",
              "    </tr>\n",
              "    <tr>\n",
              "      <th>\"    Director:Nabh Kumar 'Raju'\"</th>\n",
              "      <td>22.000000</td>\n",
              "      <td>500.000000</td>\n",
              "      <td>5.300000</td>\n",
              "    </tr>\n",
              "    <tr>\n",
              "      <th>...</th>\n",
              "      <td>...</td>\n",
              "      <td>...</td>\n",
              "      <td>...</td>\n",
              "    </tr>\n",
              "    <tr>\n",
              "      <th>ven Bhojani</th>\n",
              "      <td>4.000000</td>\n",
              "      <td>3149.000000</td>\n",
              "      <td>5.300000</td>\n",
              "    </tr>\n",
              "    <tr>\n",
              "      <th>ven Verma</th>\n",
              "      <td>43.000000</td>\n",
              "      <td>122.000000</td>\n",
              "      <td>5.400000</td>\n",
              "    </tr>\n",
              "    <tr>\n",
              "      <th>vendra Goel</th>\n",
              "      <td>52.000000</td>\n",
              "      <td>220.000000</td>\n",
              "      <td>6.600000</td>\n",
              "    </tr>\n",
              "    <tr>\n",
              "      <th>vika Bhagat</th>\n",
              "      <td>7.000000</td>\n",
              "      <td>734.000000</td>\n",
              "      <td>4.200000</td>\n",
              "    </tr>\n",
              "    <tr>\n",
              "      <th>vya Khosla Kumar</th>\n",
              "      <td>6.000000</td>\n",
              "      <td>3142.000000</td>\n",
              "      <td>2.950000</td>\n",
              "    </tr>\n",
              "  </tbody>\n",
              "</table>\n",
              "<p>1300 rows × 3 columns</p>\n",
              "</div>"
            ],
            "text/plain": [
              "                                  Age_of_content        Votes  ImDBRating\n",
              "Crew_dir                                                                 \n",
              "\"    Director:Anthony D'Souza\"          8.333333  7015.000000    4.833333\n",
              "\"    Director:Eros D'Antona\", \"         6.000000   210.000000    6.100000\n",
              "\"    Director:Jasmine D'Souza\"          5.000000  1215.000000    3.100000\n",
              "\"    Director:Lawrence D'Souza\"        25.333333  1105.555556    4.644444\n",
              "\"    Director:Nabh Kumar 'Raju'\"       22.000000   500.000000    5.300000\n",
              "...                                          ...          ...         ...\n",
              "ven Bhojani                             4.000000  3149.000000    5.300000\n",
              "ven Verma                              43.000000   122.000000    5.400000\n",
              "vendra Goel                            52.000000   220.000000    6.600000\n",
              "vika Bhagat                             7.000000   734.000000    4.200000\n",
              "vya Khosla Kumar                        6.000000  3142.000000    2.950000\n",
              "\n",
              "[1300 rows x 3 columns]"
            ]
          },
          "metadata": {},
          "execution_count": 5
        }
      ]
    },
    {
      "cell_type": "code",
      "source": [
        ""
      ],
      "metadata": {
        "id": "cp90dlCXzAUW"
      },
      "execution_count": null,
      "outputs": []
    }
  ]
}